{
  "cells": [
    {
      "cell_type": "markdown",
      "metadata": {
        "id": "40Rl7piGSY_Q"
      },
      "source": [
        "# Assignment 1: Naive Bayes [20 marks]\n",
        "\n",
        "Student Name: -\n",
        "\n",
        "Student ID: -\n",
        "\n",
        "## General info\n",
        "\n",
        "<b>Due date</b>: Friday, 8 April 2022 5pm\n",
        "\n",
        "<b>Submission method</b>: Canvas submission\n",
        "\n",
        "<b>Submission materials</b>: completed copy of this iPython notebook\n",
        "\n",
        "<b>Late submissions</b>: -10% per day up to 5 days (both weekdays and weekends count)\n",
        "<ul>\n",
        "    <li>one day late, -2.0;</li>\n",
        "    <li>two days late, -4.0;</li>\n",
        "    <li>three days late, -6.0;</li>\n",
        "    <li>four days late, -8.0;</li>\n",
        "    <li>five days late, -10.0;</li>\n",
        "</ul>\n",
        "\n",
        "<b>Marks</b>: 20% of mark for class.\n",
        "\n",
        "<b>Materials</b>: See [Using Jupyter Notebook and Python page](https://canvas.lms.unimelb.edu.au/courses/124196/pages/python-and-jupyter-notebooks?module_item_id=3512182) on Canvas (under Modules> Coding Resources) for information on the basic setup required for this class, including an iPython notebook viewer and the python packages NLTK, Numpy, Scipy, Matplotlib, Scikit-Learn, and Gensim. You can use any Python built-in packages, but do not use any other 3rd party packages; if your iPython notebook doesn't run on the marker's machine, you will lose marks. <b> You should use Python 3</b>.  \n",
        "\n",
        "\n",
        "<b>Evaluation</b>: Your iPython notebook should run end-to-end without any errors in a reasonable amount of time, and you must follow all instructions provided below, including specific implementation requirements and instructions for what needs to be printed (please avoid printing output we don't ask for). You should implement functions for the skeletons listed below. You may implement any number of additional (helper) functions. You should leave the output from running your code in the iPython notebook you submit, to assist with marking. The amount each section is worth is given in parenthesis after the instructions.\n",
        "\n",
        "You will be marked not only on the correctness of your methods, but also the quality and efficency of your code: in particular, you should be careful to use Python built-in functions and operators when appropriate and pick descriptive variable names that adhere to <a href=\"https://www.python.org/dev/peps/pep-0008/\">Python style requirements</a>. If you think it might be unclear what you are doing, you should comment your code to help the marker make sense of it. We reserve the right to deduct up to 4 marks for unreadable or exessively inefficient code.\n",
        "\n",
        "8 of the marks available for this Project will be assigned to whether the five specified Python functions work in a manner consistent with the materials from COMP90049. Any other implementation will not be directly assessed (except insofar as it is required to make these five functions work correctly).\n",
        "\n",
        "12 of the marks will be assigned to your responses to the questions, in terms of both accuracy and insightfulness. We will be looking for evidence that you have an implementation that allows you to explore the problem, but also that you have thought deeply about the data and the behaviour of the Naive Bayes classifier.\n",
        "\n",
        "<b>Updates</b>: Any major changes to the assignment will be announced via Canvas. Minor changes and clarifications will be announced on the discussion board (Piazza -> Assignments -> A2); we recommend you check it regularly.\n",
        "\n",
        "<b>Academic misconduct</b>: For most people, collaboration will form a natural part of the undertaking of this homework, and we encourge you to discuss it in general terms with other students. However, this ultimately is still an individual task, and so reuse of code or other instances of clear influence will be considered cheating. Please check the <a href=\"https://canvas.lms.unimelb.edu.au/courses/124196/modules#module_662096\">CIS Academic Honesty training</a> for more information. We will be checking submissions for originality and will invoke the University’s <a href=\"http://academichonesty.unimelb.edu.au/policy.html\">Academic Misconduct policy</a> where inappropriate levels of collusion or plagiarism are deemed to have taken place.\n",
        "\n",
        "**IMPORTANT**\n",
        "\n",
        "Please carefully read and fill out the <b>Authorship Declaration</b> form at the bottom of the page. Failure to fill out this form results in the following deductions:\n",
        "<UL TYPE=”square”>\n",
        "<LI>missing Authorship Declaration at the bottom of the page, -10.0\n",
        "<LI>incomplete or unsigned Authorship Declaration at the bottom of the page, -5.0\n",
        "</UL>"
      ]
    },
    {
      "cell_type": "markdown",
      "metadata": {
        "id": "gf0rvYL8SY_T"
      },
      "source": [
        "## Part 1: Base code [8 marks]\n",
        "\n",
        "Instructions\n",
        "1. Do **not** shuffle the data set\n",
        "2. Treat the features as continuous numeric and use them as provided (e.g., do **not** convert them to other feature types, such as discrete ones). Implement a Naive Bayes classifier with appropriate likelihood function for the data\n",
        "3. You should implement the Naive Bayes classifier from scratch. Do **not** use existing implementations/learning algorithms.\n",
        "4. Apart from the instructions in point 3, you may use libraries to help you with data reading, representation, maths or evaluation\n",
        "5. Ensure that all and only required information is printed, as indicated in the final three code cells. Failure to adhere to print the required information will result in **[-1 mark]** per case. *(We don't mind details like you print a list or several numbers -- just make sure the information is displayed so that it's easily accessible)*"
      ]
    },
    {
      "cell_type": "code",
      "execution_count": null,
      "metadata": {
        "id": "rO3t_Ft7SY_U"
      },
      "outputs": [],
      "source": [
        "# This function should open a csv file and read the data into a useable format [1 mark]\n",
        "def preprocess(filename):\n",
        "    data = open(filename, 'r').readlines()\n",
        "\n",
        "\n",
        "    header = data[0].strip().split(',')[2:]\n",
        "    instances = data[1:]\n",
        "    features,labels = [],[]\n",
        "\n",
        "    for i in range(len(instances)):\n",
        "        instance = instances[i] # getting each instance of data\n",
        "        instance = instance.strip() # strip the string\n",
        "        instance = instance.split(',') # splite by , and make our lists\n",
        "        labels.append(instance[1])\n",
        "        features.append(instance[2:])\n",
        "    return header,features,labels,instances"
      ]
    },
    {
      "cell_type": "code",
      "execution_count": null,
      "metadata": {
        "id": "vSknRu5uSY_V"
      },
      "outputs": [],
      "source": [
        "# This function should build a supervised NB model [3 marks]\n",
        "def train(header,features,labels):\n",
        "\n",
        "    counts_of_classes = Counter(labels)\n",
        "    prior_probs_y = dict()\n",
        "    Sum_of_number_of_classes = sum(counts_of_classes.values())\n",
        "    for label in counts_of_classes:\n",
        "        prior_probs_y[label] = counts_of_classes[label]/Sum_of_number_of_classes\n",
        "        #print(\"prior prob for _{}_ : {}/{} = {}\".format(label,counts_of_classes[label],Sum_of_number_of_classes,(counts_of_classes[label]/Sum_of_number_of_classes)))\n",
        "\n",
        "    #print(prior_probs_y)\n",
        "\n",
        "    reverse_features = [[features[j][i] for j in range(len(features))] for i in range(len(features[0]))]\n",
        "\n",
        "    #print()\n",
        "    dict_dict_of_features = defaultdict(dict) #cols\n",
        "    dict_list_of_labels = defaultdict(list) #labels\n",
        "\n",
        "    final_trained_probs = {}\n",
        "\n",
        "    for j in set(labels):\n",
        "        dict_list_of_labels[j] = list()\n",
        "\n",
        "    for i in header:\n",
        "        dict_dict_of_features[i] = dict(dict_list_of_labels)\n",
        "        final_trained_probs[i] = dict(dict_list_of_labels)\n",
        "\n",
        "    dict_dict_of_features = dict(dict_dict_of_features)\n",
        "    for inst in range(len(features)):\n",
        "        for attr in range(len(features[inst])):\n",
        "            #print(\"row {} col {} header {} lable {} feature {}\".format(inst,attr,header[attr],labels[inst],features[inst][attr]))\n",
        "            if type(dict_dict_of_features[header[attr]][labels[inst]]) != list():\n",
        "                dict_dict_of_features[header[attr]][labels[inst]] = list(dict_dict_of_features[header[attr]][labels[inst]])\n",
        "\n",
        "            dict_dict_of_features[header[attr]][labels[inst]].append(float(features[inst][attr]))\n",
        "\n",
        "\n",
        "    for i in dict_dict_of_features:\n",
        "        mean = 0\n",
        "        sd = 0\n",
        "        for j in dict_dict_of_features[i]:\n",
        "            #print(i,j,dict_dict_of_features[i][j])\n",
        "            mean = sum(dict_dict_of_features[i][j])/len(dict_dict_of_features[i][j])\n",
        "            nominator = 0\n",
        "            for c in dict_dict_of_features[i][j]:\n",
        "                nominator = (c-mean)**2 + nominator\n",
        "            sd = math.sqrt(nominator/len(dict_dict_of_features[i][j]))\n",
        "\n",
        "            #print(\"P({}|{}): \\nmean: {}\\nsd: {}\".format(i,j,mean,sd))\n",
        "\n",
        "            final_trained_probs[i][j] = [mean,sd]\n",
        "\n",
        "        #print()\n",
        "    #print(final_trained_probs)\n",
        "    return final_trained_probs,prior_probs_y"
      ]
    },
    {
      "cell_type": "code",
      "execution_count": null,
      "metadata": {
        "id": "1fCc0WizSY_V"
      },
      "outputs": [],
      "source": [
        "# This function should predict the class for a set of instances, based on a trained model [2 marks]\n",
        "def predict(test_instances,prior_probs_y):\n",
        "\n",
        "    predicts = float()\n",
        "    predict_probs = []\n",
        "    test_results = []\n",
        "    for instance in range(len(test_instances)):\n",
        "        flag = 0\n",
        "        for c in set(labels):\n",
        "            priorProb = prior_probs_y[c]\n",
        "            likelihoodForClass = math.log(priorProb)\n",
        "            #print(test_instances[instance])\n",
        "            for feature in range(len(test_instances[instance])):\n",
        "            #calculate for each class\n",
        "\n",
        "                appropriate_sd = final_trained_probs[header[feature]][c][1]\n",
        "                appropriate_mean = final_trained_probs[header[feature]][c][0]\n",
        "                a = 2*3.14*(appropriate_sd**2)\n",
        "                b = math.exp(((float(test_instances[instance][feature])-appropriate_mean)**2)/(-2*(appropriate_sd**2)))\n",
        "                #print(b,a)\n",
        "                if b == 0 or a==0:\n",
        "                    likelihoodForClass = likelihoodForClass + 0 + 0.000000001 #sol 2\n",
        "                else:\n",
        "                    likelihoodForClass = likelihoodForClass + math.log(b/a) + 0.000000001 #sol 2\n",
        "\n",
        "                #print(header[feature],c,final_trained_probs[header[feature]][c],prior_probs_y[c])\n",
        "            #predicts[c] = float(likelihoodForClass)\n",
        "            #print(c,likelihoodForClass)\n",
        "            if flag == 1:\n",
        "                if predicts<likelihoodForClass:\n",
        "                    predicts = likelihoodForClass\n",
        "                    predict_class = c\n",
        "                else:\n",
        "                    continue\n",
        "            predicts = likelihoodForClass\n",
        "            predict_class = c\n",
        "            flag =1\n",
        "        test_results.append(predict_class)\n",
        "        predict_probs.append(predicts)\n",
        "        #print(predicts,predict_class)\n",
        "    return test_results,predict_probs"
      ]
    },
    {
      "cell_type": "code",
      "execution_count": null,
      "metadata": {
        "id": "GR5jdb7wSY_W"
      },
      "outputs": [],
      "source": [
        "# This function should evaluate a set of predictions [1 mark]\n",
        "def evaluate(test_predictions,lables):\n",
        "    #print(len(test_predictions),len(lables))\n",
        "    correctCount = 0\n",
        "    for i in range(len(test_predictions)):\n",
        "        if test_predictions[i] == lables[i]:\n",
        "            correctCount += 1\n",
        "    return correctCount/len(test_predictions)"
      ]
    },
    {
      "cell_type": "code",
      "execution_count": null,
      "metadata": {
        "id": "6JY5JT_wSY_W",
        "outputId": "52c416a4-e58c-45f3-d06c-3e02cd8b714e"
      },
      "outputs": [
        {
          "name": "stdout",
          "output_type": "stream",
          "text": [
            "0.8088\n",
            "Feature vectors of instances [0, 1, 2]:  ['CLI0001,<=50K,31,142470,13,0,0,40\\n', 'CLI0002,<=50K,31,323069,9,0,0,20\\n', 'CLI0003,<=50K,25,122489,13,0,1726,60\\n']\n",
            "\n",
            "Number of instances (N):  2500\n",
            "Number of features (F):  8\n",
            "Number of labels (L):  2500\n",
            "\n",
            "\n",
            "Predicted class probabilities for instance N-3:  -74.7307371646144\n",
            "Predicted class ID for instance N-3:  <=50K\n",
            "\n",
            "Predicted class probabilities for instance N-2:  -72.53020523703248\n",
            "Predicted class ID for instance N-2:  <=50K\n",
            "\n",
            "Predicted class probabilities for instance N-1:  -72.19273360177912\n",
            "Predicted class ID for instance N-1:  <=50K\n"
          ]
        }
      ],
      "source": [
        "# This cell should act as your \"main\" function where you call the above functions\n",
        "# on the full OBJECTIVITY data set, and print the evaluation score. [0.33 marks]\n",
        "\n",
        "from collections import defaultdict,Counter\n",
        "import math\n",
        "# First, read in the data and apply your NB model to the OBJECTIVITY data\n",
        "\n",
        "    # adult.csv\n",
        "    # absenteeism.csv\n",
        "    # objectivity.csv\n",
        "header,features,labels,instances = preprocess('adult.csv ')\n",
        "final_trained_probs,prior_probs_y = train(header,features,labels)\n",
        "test_predictions,predict_probs = predict(features,prior_probs_y)\n",
        "# Second, print the full evaluation results from the evaluate() function\n",
        "\n",
        "accuracy = evaluate(test_predictions,labels)\n",
        "print(accuracy)\n",
        "\n",
        "\n",
        "\n",
        "# Third, print data statistics and model predictions, as instructed below\n",
        "# N is the total number of instances, F the total number of features, L the total number of labels\n",
        "# The \"class probabilities\" may be unnormalized\n",
        "# The \"predicted class ID\" must be in range (0, L)\n",
        "\n",
        "print(\"Feature vectors of instances [0, 1, 2]: \", instances[0:3])# in features first 2 cols didnt considered\n",
        "\n",
        "print(\"\\nNumber of instances (N): \", len(instances))\n",
        "print(\"Number of features (F): \", len(header)+2)\n",
        "print(\"Number of labels (L): \", len(labels))\n",
        "\n",
        "print(\"\\n\\nPredicted class probabilities for instance N-3: \", predict_probs[-3])\n",
        "print(\"Predicted class ID for instance N-3: \", test_predictions[-3])\n",
        "print(\"\\nPredicted class probabilities for instance N-2: \", predict_probs[-2])\n",
        "print(\"Predicted class ID for instance N-2: \", test_predictions[-2])\n",
        "print(\"\\nPredicted class probabilities for instance N-1: \", predict_probs[-1])\n",
        "print(\"Predicted class ID for instance N-1: \", test_predictions[-1])\n",
        "\n"
      ]
    },
    {
      "cell_type": "code",
      "execution_count": null,
      "metadata": {
        "id": "7SGIhg-sSY_X",
        "outputId": "5763799d-7996-4d3b-db3c-a9d150c3a757"
      },
      "outputs": [
        {
          "name": "stdout",
          "output_type": "stream",
          "text": [
            "0.28177641653905056\n",
            "Feature vectors of instances [0, 1, 2]:  ['WOR0002,0,18,50,239.554,97,1,0,98,178,31\\n', 'WOR0003,2,18,38,239.554,97,0,0,89,170,31\\n', 'WOR0005,2,13,33,239.554,97,2,1,90,172,30\\n']\n",
            "\n",
            "Number of instances (N):  653\n",
            "Number of features (F):  11\n",
            "Number of labels (L):  653\n",
            "\n",
            "\n",
            "Predicted class probabilities for instance N-3:  -58.3361743337936\n",
            "Predicted class ID for instance N-3:  0\n",
            "\n",
            "Predicted class probabilities for instance N-2:  -50.42320632661738\n",
            "Predicted class ID for instance N-2:  3\n",
            "\n",
            "Predicted class probabilities for instance N-1:  -49.20989652601107\n",
            "Predicted class ID for instance N-1:  1\n"
          ]
        }
      ],
      "source": [
        "# This cell should act as your \"main\" function where you call the above functions\n",
        "# on the full ADULT data set, and print the evaluation score. [0.33 marks]\n",
        "\n",
        "\n",
        "\n",
        "from collections import defaultdict,Counter\n",
        "import math\n",
        "# First, read in the data and apply your NB model to the OBJECTIVITY data\n",
        "\n",
        "    # adult.csv\n",
        "    # absenteeism.csv\n",
        "    # objectivity.csv\n",
        "header,features,labels,instances = preprocess('absenteeism.csv')\n",
        "final_trained_probs,prior_probs_y = train(header,features,labels)\n",
        "test_predictions,predict_probs = predict(features,prior_probs_y)\n",
        "# Second, print the full evaluation results from the evaluate() function\n",
        "\n",
        "accuracy = evaluate(test_predictions,labels)\n",
        "print(accuracy)\n",
        "\n",
        "\n",
        "\n",
        "\n",
        "# Third, print data statistics and model predictions, as instructed below\n",
        "# N is the total number of instances, F the total number of features, L the total number of labels\n",
        "# The \"class probabilities\" may be unnormalized\n",
        "# The \"predicted class ID\" must be in range (0, L)\n",
        "\n",
        "print(\"Feature vectors of instances [0, 1, 2]: \", instances[0:3])# in features first 2 cols didnt considered\n",
        "\n",
        "print(\"\\nNumber of instances (N): \", len(instances))\n",
        "print(\"Number of features (F): \", len(header)+2)\n",
        "print(\"Number of labels (L): \", len(labels))\n",
        "\n",
        "print(\"\\n\\nPredicted class probabilities for instance N-3: \", predict_probs[-3])\n",
        "print(\"Predicted class ID for instance N-3: \", test_predictions[-3])\n",
        "print(\"\\nPredicted class probabilities for instance N-2: \", predict_probs[-2])\n",
        "print(\"Predicted class ID for instance N-2: \", test_predictions[-2])\n",
        "print(\"\\nPredicted class probabilities for instance N-1: \", predict_probs[-1])\n",
        "print(\"Predicted class ID for instance N-1: \", test_predictions[-1])\n",
        "\n",
        "\n"
      ]
    },
    {
      "cell_type": "code",
      "execution_count": null,
      "metadata": {
        "id": "LpmW1mEdSY_X",
        "outputId": "4d531ebd-05d2-4099-d666-9cc2e63404ba"
      },
      "outputs": [
        {
          "name": "stdout",
          "output_type": "stream",
          "text": [
            "0.775\n",
            "Feature vectors of instances [0, 1, 2]:  ['Text0001,objective,109,8,0,0,0,0,12,0,1,2,2,0,2,0,0,0,0,0,0,4,0,0,3\\n', 'Text0002,objective,309,35,0,0,2,1,17,0,7,5,16,0,0,0,7,0,7,0,0,19,1,0,10\\n', 'Text0003,objective,149,15,0,0,0,1,4,0,4,0,7,0,1,0,2,0,0,0,0,6,0,0,2\\n']\n",
            "\n",
            "Number of instances (N):  1000\n",
            "Number of features (F):  25\n",
            "Number of labels (L):  1000\n",
            "\n",
            "\n",
            "Predicted class probabilities for instance N-3:  -151.97166615107932\n",
            "Predicted class ID for instance N-3:  subjective\n",
            "\n",
            "Predicted class probabilities for instance N-2:  -126.97785080761442\n",
            "Predicted class ID for instance N-2:  objective\n",
            "\n",
            "Predicted class probabilities for instance N-1:  -135.8391186834387\n",
            "Predicted class ID for instance N-1:  objective\n"
          ]
        }
      ],
      "source": [
        "# This cell should act as your \"main\" function where you call the above functions\n",
        "# on the full ABSENTEEISM data set, and print the evaluation score. [0.33 marks]\n",
        "\n",
        "\n",
        "\n",
        "from collections import defaultdict,Counter\n",
        "import math\n",
        "# First, read in the data and apply your NB model to the OBJECTIVITY data\n",
        "\n",
        "    # adult.csv\n",
        "    # absenteeism.csv\n",
        "    # objectivity.csv\n",
        "header,features,labels,instances = preprocess('objectivity.csv')\n",
        "final_trained_probs,prior_probs_y = train(header,features,labels)\n",
        "test_predictions,predict_probs = predict(features,prior_probs_y)\n",
        "# Second, print the full evaluation results from the evaluate() function\n",
        "\n",
        "accuracy = evaluate(test_predictions,labels)\n",
        "print(accuracy)\n",
        "\n",
        "\n",
        "\n",
        "\n",
        "\n",
        "\n",
        "\n",
        "# Third, print data statistics and model predictions, as instructed below\n",
        "# N is the total number of instances, F the total number of features, L the total number of labels\n",
        "# The \"class probabilities\" may be unnormalized\n",
        "# The \"predicted class ID\" must be in range (0, L)\n",
        "\n",
        "print(\"Feature vectors of instances [0, 1, 2]: \", instances[0:3])# in features first 2 cols didnt considered\n",
        "\n",
        "print(\"\\nNumber of instances (N): \", len(instances))\n",
        "print(\"Number of features (F): \", len(header)+2)\n",
        "print(\"Number of labels (L): \", len(labels))\n",
        "\n",
        "print(\"\\n\\nPredicted class probabilities for instance N-3: \", predict_probs[-3])\n",
        "print(\"Predicted class ID for instance N-3: \", test_predictions[-3])\n",
        "print(\"\\nPredicted class probabilities for instance N-2: \", predict_probs[-2])\n",
        "print(\"Predicted class ID for instance N-2: \", test_predictions[-2])\n",
        "print(\"\\nPredicted class probabilities for instance N-1: \", predict_probs[-1])\n",
        "print(\"Predicted class ID for instance N-1: \", test_predictions[-1])\n",
        "\n"
      ]
    },
    {
      "cell_type": "markdown",
      "metadata": {
        "id": "O7NCUz2KSY_X"
      },
      "source": [
        "# Part 2: Conceptual questions [12 marks]"
      ]
    },
    {
      "cell_type": "markdown",
      "metadata": {
        "id": "1ukxkzp2SY_X"
      },
      "source": [
        "## Question 1: Evaluation strategy [3 marks]"
      ]
    },
    {
      "cell_type": "code",
      "execution_count": null,
      "metadata": {
        "id": "3bSbvSRhSY_Y",
        "outputId": "2c5f1b70-09b8-48d0-cd3e-299e92da31ff"
      },
      "outputs": [
        {
          "name": "stdout",
          "output_type": "stream",
          "text": [
            "CV * Accuracy - (Avg Acc) for dataset: absenteeism.csv = 0.2558191426893717\n",
            "CV * Accuracy - (Avg Acc) for dataset: adult.csv = 0.804\n",
            "CV * Accuracy - (Avg Acc) for dataset: objectivity.csv = 0.7899999999999999\n"
          ]
        }
      ],
      "source": [
        "# Write additional code here, if necessary (you may insert additional code cells)\n",
        "from sklearn.naive_bayes import GaussianNB\n",
        "from sklearn.model_selection import cross_val_score\n",
        "import numpy as np\n",
        "\n",
        "#CV\n",
        "datasetNames = ['absenteeism.csv','adult.csv','objectivity.csv']\n",
        "for i in datasetNames:\n",
        "\n",
        "    header,features,labels,instances = preprocess(i)\n",
        "\n",
        "    b = np.array(features, dtype=float) #  convert using numpy\n",
        "\n",
        "    scores = cross_val_score(GaussianNB(), b, labels, cv=5, scoring=\"accuracy\")\n",
        "\n",
        "    print(\"CV * Accuracy - (Avg Acc) for dataset: {} = {}\".format(i,sum(scores)/len(scores)))\n",
        "\n"
      ]
    },
    {
      "cell_type": "code",
      "execution_count": null,
      "metadata": {
        "id": "4W-DIclOSY_Y",
        "outputId": "7d439857-ba9f-4603-e4a2-6e5532ba0db6"
      },
      "outputs": [
        {
          "name": "stdout",
          "output_type": "stream",
          "text": [
            "Hold out * Accuracy - for dataset: absenteeism.csv = 0.4090909090909091\n",
            "Hold out * Accuracy - for dataset: adult.csv = 0.82\n",
            "Hold out * Accuracy - for dataset: objectivity.csv = 0.78\n"
          ]
        }
      ],
      "source": [
        "from sklearn.model_selection import train_test_split\n",
        "from sklearn.metrics import accuracy_score\n",
        "# hold out\n",
        "datasetNames = ['absenteeism.csv','adult.csv','objectivity.csv']\n",
        "for i in datasetNames:\n",
        "    header,features,labels,instances = preprocess(i)\n",
        "\n",
        "    b = np.array(features, dtype=float)\n",
        "    X_train, X_test, y_train, y_test = train_test_split(b, labels, test_size=0.1, random_state=0)\n",
        "    gnb = GaussianNB()\n",
        "    y_pred = gnb.fit(X_train, y_train).predict(X_test)\n",
        "    s = accuracy_score(y_test, y_pred, sample_weight=None)\n",
        "    print(\"Hold out * Accuracy - for dataset: {} = {}\".format(i,s))"
      ]
    },
    {
      "cell_type": "code",
      "execution_count": null,
      "metadata": {
        "id": "AaQ4oFJhSY_Y",
        "outputId": "f6ff8784-9a41-47db-8c82-14e2a89476ff"
      },
      "outputs": [
        {
          "name": "stdout",
          "output_type": "stream",
          "text": [
            "datasets real labels and predicted ones\n"
          ]
        },
        {
          "data": {
            "image/png": "[encoded data removed]",
            "text/plain": [
              "<Figure size 360x360 with 1 Axes>"
            ]
          },
          "metadata": {
            "needs_background": "light"
          },
          "output_type": "display_data"
        },
        {
          "data": {
            "image/png": "[encoded data removed]",
            "text/plain": [
              "<Figure size 360x360 with 1 Axes>"
            ]
          },
          "metadata": {
            "needs_background": "light"
          },
          "output_type": "display_data"
        },
        {
          "data": {
            "image/png": "[encoded data removed]",
            "text/plain": [
              "<Figure size 360x360 with 1 Axes>"
            ]
          },
          "metadata": {
            "needs_background": "light"
          },
          "output_type": "display_data"
        },
        {
          "data": {
            "image/png": "[encoded data removed]",
            "text/plain": [
              "<Figure size 360x360 with 1 Axes>"
            ]
          },
          "metadata": {
            "needs_background": "light"
          },
          "output_type": "display_data"
        },
        {
          "data": {
            "image/png": "[encoded data removed]",
            "text/plain": [
              "<Figure size 360x360 with 1 Axes>"
            ]
          },
          "metadata": {
            "needs_background": "light"
          },
          "output_type": "display_data"
        },
        {
          "data": {
            "image/png": "[encoded data removed]",
            "text/plain": [
              "<Figure size 360x360 with 1 Axes>"
            ]
          },
          "metadata": {
            "needs_background": "light"
          },
          "output_type": "display_data"
        }
      ],
      "source": [
        "import numpy as np\n",
        "import pandas as pd\n",
        "import seaborn as sns\n",
        "datasetNames = ['absenteeism.csv','adult.csv','objectivity.csv']\n",
        "for i in datasetNames:\n",
        "    header,features,labels,instances = preprocess(i)\n",
        "    b = np.array(features, dtype=float)\n",
        "    X_train, X_test, y_train, y_test = train_test_split(b, labels, test_size=0.1, random_state=0)\n",
        "    gnb = GaussianNB()\n",
        "    y_pred = gnb.fit(X_train, y_train).predict(X_test)\n",
        "\n",
        "    sns.displot(labels)\n",
        "    sns.displot(y_pred)\n",
        "print(\"datasets real labels and predicted ones\")"
      ]
    },
    {
      "cell_type": "markdown",
      "metadata": {
        "id": "p73tPR6KSY_Y"
      },
      "source": [
        "Provide your text answer of 100-150 words in this cell.\n",
        "\n",
        "using sklearn Gassian Naive bayes and accuracy metric for evaluation, shows cross validation(CV) strategy did not have much affect on accuracy. While expectation of CV is to see more of data during training phase.\n",
        "reducing cross validation folds would only reduce the accuracy of model. increasing it to nearly N (number of dataset rows) bringing the idea of hold out. Hold out seems to perform better on accuracy of these datasets.(both methods tested above)\n",
        "CV was sopposed to be a better approach since datasets are small in this assignment.\n",
        "finally estimate of effectiveness didnt change by using CV however hold out relatively performed better on 'absenteeism'. It can be a result of conditionally independant assumption in NB."
      ]
    },
    {
      "cell_type": "markdown",
      "metadata": {
        "id": "wMOStUyLSY_Z"
      },
      "source": [
        "## Question 2: Feature standardization [2 marks]"
      ]
    },
    {
      "cell_type": "code",
      "execution_count": null,
      "metadata": {
        "id": "pHWo1u8XSY_Z",
        "outputId": "0d5a53ff-a9c7-42c3-dc8a-627faff5ba60"
      },
      "outputs": [
        {
          "name": "stdout",
          "output_type": "stream",
          "text": [
            "Hold out * Accuracy - for dataset: absenteeism.csv = 0.4090909090909091\n",
            "CV * Accuracy - (Avg Acc) for dataset: absenteeism.csv = 0.2558191426893717\n",
            "Hold out * Accuracy - for dataset: adult.csv = 0.82\n",
            "CV * Accuracy - (Avg Acc) for dataset: adult.csv = 0.8044\n",
            "Hold out * Accuracy - for dataset: objectivity.csv = 0.78\n",
            "CV * Accuracy - (Avg Acc) for dataset: objectivity.csv = 0.7899999999999999\n"
          ]
        }
      ],
      "source": [
        "# Write additional code here, if necessary (you may insert additional code cells)\n",
        "\n",
        "from sklearn import preprocessing\n",
        "import numpy as np\n",
        "from sklearn.model_selection import train_test_split\n",
        "from sklearn.metrics import accuracy_score\n",
        "# hold out\n",
        "datasetNames = ['absenteeism.csv','adult.csv','objectivity.csv']\n",
        "for i in datasetNames:\n",
        "    header,features,labels,instances = preprocess(i)\n",
        "    x = np.array(features)\n",
        "    scaler = preprocessing.StandardScaler().fit(x)\n",
        "    X_scaled = scaler.transform(x)\n",
        "\n",
        "\n",
        "    X_train, X_test, y_train, y_test = train_test_split(X_scaled, labels, test_size=0.1, random_state=0)\n",
        "\n",
        "\n",
        "    gnb = GaussianNB()\n",
        "    y_pred = gnb.fit(X_train, y_train).predict(X_test)\n",
        "    s = accuracy_score(y_test, y_pred, sample_weight=None)\n",
        "    print(\"Hold out * Accuracy - for dataset: {} = {}\".format(i,s))\n",
        "\n",
        "\n",
        "    header,features,labels,instances = preprocess(i)\n",
        "\n",
        "\n",
        "    scores = cross_val_score(GaussianNB(), X_scaled, labels, cv=5, scoring=\"accuracy\")\n",
        "\n",
        "    print(\"CV * Accuracy - (Avg Acc) for dataset: {} = {}\".format(i,sum(scores)/len(scores)))"
      ]
    },
    {
      "cell_type": "markdown",
      "metadata": {
        "id": "ktT8VgWuSY_Z"
      },
      "source": [
        "Provide your text answer of 100-150 words in this cell.\n",
        "\n",
        "feature standardization rescale features not normalize. It can spread values around the mean. In this case meaning stadardising probabilities and we used sklearn StandardScaler() to spread data around 0. It shows that even after rescaling,results are exactly the same.\n",
        "standardization does not matter in gassian NB. My believe is that since its independently calculate the continuous values and we already calculated it aruund variance and mean on each column(feature) there is no change."
      ]
    },
    {
      "cell_type": "markdown",
      "metadata": {
        "id": "rxJu2NewSY_Z"
      },
      "source": [
        "## Question 3: Naive Bayes assumptions [2 marks]"
      ]
    },
    {
      "cell_type": "code",
      "execution_count": null,
      "metadata": {
        "id": "qUGAALwHSY_Z"
      },
      "outputs": [],
      "source": [
        "# Write additional code here, if necessary (you may insert additional code cells)"
      ]
    },
    {
      "cell_type": "markdown",
      "metadata": {
        "id": "CMjr2dUPSY_Z"
      },
      "source": [
        "Provide your text answer of 100-150 words in this cell.\n",
        "\n",
        "features of an instance are conditionally independant. (assumed) : P(Xi|Yi)\n",
        "\n",
        "instances are independant - conditioned on class y : P(Yi)\n",
        "\n",
        "in absenteeism.csv for example we see these headers:\n",
        "Weight,Height,Body mass index\n",
        "they are dependent to each other but we are assuming that they are independant.\n",
        "in objectivity.csv for example we are working with word counds and their frequency types. considering these independencies are an example of good independant assumption."
      ]
    },
    {
      "cell_type": "markdown",
      "metadata": {
        "id": "bLxvM6rKSY_Z"
      },
      "source": [
        "## Question 4: Feature Selection and Ethics [5 marks]\n",
        "- Question 4.1: [3.5 marks]\n",
        "- Question 4.2: [1.5 mark]"
      ]
    },
    {
      "cell_type": "code",
      "execution_count": null,
      "metadata": {
        "id": "tbmf_AtNSY_a",
        "outputId": "8cd3601c-fdc1-475a-bdb6-a7a57464c2e9"
      },
      "outputs": [
        {
          "name": "stdout",
          "output_type": "stream",
          "text": [
            "['Federal-gov' 'Local-gov' 'Private' 'Self-emp-inc' 'Self-emp-not-inc'\n",
            " 'State-gov']\n",
            "['10th' '11th' '12th' '1st-4th' '5th-6th' '7th-8th' '9th' 'Assoc-acdm'\n",
            " 'Assoc-voc' 'Bachelors' 'Doctorate' 'HS-grad' 'Masters' 'Preschool'\n",
            " 'Prof-school' 'Some-college']\n",
            "['Divorced' 'Married-civ-spouse' 'Married-spouse-absent' 'Never-married'\n",
            " 'Separated' 'Widowed']\n",
            "['Adm-clerical' 'Armed-Forces' 'Craft-repair' 'Exec-managerial'\n",
            " 'Farming-fishing' 'Handlers-cleaners' 'Machine-op-inspct' 'Other-service'\n",
            " 'Priv-house-serv' 'Prof-specialty' 'Protective-serv' 'Sales'\n",
            " 'Tech-support' 'Transport-moving']\n",
            "['Husband' 'Not-in-family' 'Other-relative' 'Own-child' 'Unmarried' 'Wife']\n",
            "['Amer-Indian-Eskimo' 'Asian-Pac-Islander' 'Black' 'Other' 'White']\n",
            "['Female' 'Male']\n",
            "['Cambodia' 'Canada' 'China' 'Columbia' 'Cuba' 'Dominican-Republic'\n",
            " 'Ecuador' 'El-Salvador' 'England' 'France' 'Germany' 'Greece' 'Guatemala'\n",
            " 'Haiti' 'Hong' 'Hungary' 'India' 'Iran' 'Italy' 'Jamaica' 'Japan' 'Laos'\n",
            " 'Mexico' 'Nicaragua' 'Peru' 'Philippines' 'Poland' 'Portugal'\n",
            " 'Puerto-Rico' 'South' 'Taiwan' 'Thailand' 'Trinadad&Tobago'\n",
            " 'United-States' 'Vietnam' 'Yugoslavia']\n",
            "91\n",
            "91\n",
            "[0.         0.         0.         0.01034361 0.00415894 0.00662819\n",
            " 0.0065445  0.01918442 0.         0.01617825 0.01113211 0.0059523\n",
            " 0.         0.         0.00053106 0.02208424 0.01801641 0.01822172\n",
            " 0.01201393 0.00722576 0.02366211 0.01765271 0.01119647 0.10831186\n",
            " 0.00024412 0.06246808 0.01170902 0.         0.         0.0091631\n",
            " 0.         0.00912289 0.         0.         0.01036549 0.01497873\n",
            " 0.         0.02427275 0.00097773 0.         0.00362366 0.\n",
            " 0.07566901 0.01799567 0.00073473 0.0334898  0.02588358 0.\n",
            " 0.00170333 0.         0.         0.00145726 0.         0.01883777\n",
            " 0.02479175 0.         0.         0.         0.00920375 0.00732075\n",
            " 0.         0.01228501 0.00218149 0.         0.00280892 0.\n",
            " 0.         0.         0.         0.         0.         0.00522772\n",
            " 0.         0.00162604 0.00664786 0.00257533 0.00118964 0.\n",
            " 0.01618884 0.         0.         0.00274728 0.         0.01080048\n",
            " 0.         0.0023454  0.         0.00373691 0.         0.\n",
            " 0.00794848]\n"
          ]
        }
      ],
      "source": [
        "# Write additional code here, if necessary (you may insert additional code cells)\n",
        "from sklearn.feature_selection import mutual_info_classif\n",
        "import pandas as pd\n",
        "from sklearn.preprocessing import OneHotEncoder\n",
        "\n",
        "data = open('adult_nominal_for_q4.csv', 'r').readlines()\n",
        "# ignore the ? containing instances\n",
        "\n",
        "header = data[0].strip().split(',')\n",
        "instances = data[1:]\n",
        "features,labels = [],[]\n",
        "\n",
        "for i in range(len(instances)):\n",
        "    corrupted = 0\n",
        "    instance = instances[i] # getting each instance of data\n",
        "    instance = instance.strip() # strip the string\n",
        "    instance = instance.split(',') # splite by , and make our lists\n",
        "    #print(instance)\n",
        "    for j in instance:\n",
        "\n",
        "        if j==\"?\":\n",
        "            corrupted = 1\n",
        "    if corrupted == 0:\n",
        "        labels.append(instance[1])\n",
        "        features.append(instance[2:])\n",
        "\n",
        "    else:\n",
        "        #print(instance)\n",
        "        continue\n",
        "\n",
        "\n",
        "enc = OneHotEncoder(handle_unknown='ignore')\n",
        "X = features\n",
        "xfit = enc.fit(X)\n",
        "\n",
        "#print(enc.categories_)\n",
        "#print(enc.transform(X).toarray())\n",
        "mi = mutual_info_classif(enc.transform(X).toarray(), labels)\n",
        "aaaa = 0\n",
        "for i in enc.categories_:\n",
        "    print(i)\n",
        "    aaaa = len(i) + aaaa\n",
        "#print(len(mi))\n",
        "#print(aaaa)\n",
        "print(mi)"
      ]
    },
    {
      "cell_type": "code",
      "execution_count": null,
      "metadata": {
        "id": "QQBu7zH4SY_a",
        "outputId": "ac7d97c7-4d8b-4111-cdaa-eb7052374702"
      },
      "outputs": [
        {
          "name": "stdout",
          "output_type": "stream",
          "text": [
            "sum of pmi for Workclass=0.021130736120140714\n",
            "sum of pmi for Education=0.17185503309492933\n",
            "sum of pmi for Marital-status=0.18273306983691917\n",
            "sum of pmi for Occupation=0.07250435317190274\n",
            "sum of pmi for Relationship=0.07810378099343374\n",
            "sum of pmi for Race=0.0014572644373458399\n",
            "sum of pmi for Sex=0.02479175022993707\n",
            "sum of pmi for Native-country=0.09483388783233782\n"
          ]
        }
      ],
      "source": [
        "aaaa = 0\n",
        "holder = 0\n",
        "colsum = []\n",
        "for i in range(len(enc.categories_)):\n",
        "    aaaa = len(enc.categories_[i]) + aaaa\n",
        "\n",
        "    #print(aaaa)\n",
        "    if holder==0:\n",
        "        #print(holder,aaaa,mi[holder:aaaa],sum(mi[holder:aaaa]))\n",
        "        colsum.append(sum(mi[holder:aaaa]))\n",
        "    else:\n",
        "        #print(holder+1,aaaa)\n",
        "        colsum.append(sum(mi[holder+1:aaaa]))\n",
        "    holder = aaaa\n",
        "#print(header[2:])\n",
        "#print(colsum)\n",
        "h = header[2:]\n",
        "for i in range(len(h)):\n",
        "    print(\"sum of pmi for {}={}\".format(h[i],colsum[i]))"
      ]
    },
    {
      "cell_type": "markdown",
      "metadata": {
        "id": "RBmNdQV9SY_a"
      },
      "source": [
        "Provide your text answer to **Question 4.1** of 100-150 words in this cell.\n",
        "\n",
        "Mutual Information (MI) is about joint probabilities over individual probs. the more features are independant the more they get near to 0. Here PMI considered as point of MI.\n",
        "Nominal data was first transformed to descrete. In our case, One hot encoding used and then these new feature colums helped to calculate PMI using sklearn.\n",
        "for example:\n",
        "\n",
        "for the fisr column we could have these values:\n",
        "['Federal-gov' 'Local-gov' 'Private' 'Self-emp-inc' 'Self-emp-not-inc'\n",
        " 'State-gov']\n",
        "\n",
        "their MI is equal:\n",
        "[0.         0.         0.         0.01034361 0.00415894 0.00662819]\n",
        "\n",
        "those with 0 meaning they are independant for getting our outcome classes.\n",
        "for those more than 0 we have probability more than randome to occure while class is apeared.\n",
        "It is also should be mentioned that, rows with value ? did not considered in model."
      ]
    },
    {
      "cell_type": "markdown",
      "metadata": {
        "id": "xzg0yQ1RSY_a"
      },
      "source": [
        "Provide your text answer to **Question 4.2** of 50-100 words in this cell.\n",
        "\n",
        "I believe it is not ethical to use our whole data set\n",
        "since it increase the bias and reduce variance meaning we can not perform on new unseen datas effeciently.\n",
        "as it is shown there are some attributes that are not making any correlation with seeing data labels in this data set like Federal-gov. and intuitively it is undrestandable in some cases as well.\n",
        "as an instance Relationship as shown above has lowest correlation and lowest pmi. so we ncan discard this feature in our model."
      ]
    },
    {
      "cell_type": "markdown",
      "metadata": {
        "id": "jhNkSfXqSY_a"
      },
      "source": [
        "<b>Authorship Declaration</b>:\n",
        "\n",
        "   (1) I certify that the program contained in this submission is completely\n",
        "   my own individual work, except where explicitly noted by comments that\n",
        "   provide details otherwise.  I understand that work that has been developed\n",
        "   by another student, or by me in collaboration with other students,\n",
        "   or by non-students as a result of request, solicitation, or payment,\n",
        "   may not be submitted for assessment in this subject.  I understand that\n",
        "   submitting for assessment work developed by or in collaboration with\n",
        "   other students or non-students constitutes Academic Misconduct, and\n",
        "   may be penalized by mark deductions, or by other penalties determined\n",
        "   via the University of Melbourne Academic Honesty Policy, as described\n",
        "   at https://academicintegrity.unimelb.edu.au.\n",
        "\n",
        "   (2) I also certify that I have not provided a copy of this work in either\n",
        "   softcopy or hardcopy or any other form to any other student, and nor will\n",
        "   I do so until after the marks are released. I understand that providing\n",
        "   my work to other students, regardless of my intention or any undertakings\n",
        "   made to me by that other student, is also Academic Misconduct.\n",
        "\n",
        "   (3) I further understand that providing a copy of the assignment\n",
        "   specification to any form of code authoring or assignment tutoring\n",
        "   service, or drawing the attention of others to such services and code\n",
        "   that may have been made available via such a service, may be regarded\n",
        "   as Student General Misconduct (interfering with the teaching activities\n",
        "   of the University and/or inciting others to commit Academic Misconduct).\n",
        "   I understand that an allegation of Student General Misconduct may arise\n",
        "   regardless of whether or not I personally make use of such solutions\n",
        "   or sought benefit from such actions.\n",
        "\n",
        "   <b>Signed by</b>: -\n",
        "   \n",
        "   <b>Dated</b>: 8/04/2022"
      ]
    },
    {
      "cell_type": "code",
      "execution_count": null,
      "metadata": {
        "id": "_Jrq2KeCSY_a"
      },
      "outputs": [],
      "source": []
    }
  ],
  "metadata": {
    "kernelspec": {
      "display_name": "Python 3 (ipykernel)",
      "language": "python",
      "name": "python3"
    },
    "language_info": {
      "codemirror_mode": {
        "name": "ipython",
        "version": 3
      },
      "file_extension": ".py",
      "mimetype": "text/x-python",
      "name": "python",
      "nbconvert_exporter": "python",
      "pygments_lexer": "ipython3",
      "version": "3.9.7"
    },
    "colab": {
      "provenance": []
    }
  },
  "nbformat": 4,
  "nbformat_minor": 0
}